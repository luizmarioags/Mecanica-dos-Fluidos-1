{
  "nbformat": 4,
  "nbformat_minor": 0,
  "metadata": {
    "colab": {
      "name": "EscoamentoemTubos_EquaçãodeBernoulli_Tensores.ipynb",
      "provenance": [],
      "authorship_tag": "ABX9TyPRz5nxG/dpRsM0qmzR91ld",
      "include_colab_link": true
    },
    "kernelspec": {
      "name": "python3",
      "display_name": "Python 3"
    },
    "language_info": {
      "name": "python"
    }
  },
  "cells": [
    {
      "cell_type": "markdown",
      "metadata": {
        "id": "view-in-github",
        "colab_type": "text"
      },
      "source": [
        "<a href=\"https://colab.research.google.com/github/luizmarioags/Mecanica-dos-Fluidos-1/blob/main/EscoamentoemTubos_Equa%C3%A7%C3%A3odeBernoulli_Tensores.ipynb\" target=\"_parent\"><img src=\"https://colab.research.google.com/assets/colab-badge.svg\" alt=\"Open In Colab\"/></a>"
      ]
    },
    {
      "cell_type": "code",
      "execution_count": null,
      "metadata": {
        "id": "dbLLTFdoAd6k"
      },
      "outputs": [],
      "source": [
        "import numpy as np "
      ]
    },
    {
      "cell_type": "markdown",
      "source": [
        "\n",
        "Exercício 1 \n",
        "\n",
        "a) Sejam dois vetores $\\vec{A} = [1,2,3]$ e $\\vec{B} = [-3,0,1]$. Calcule o produto escalar $\\vec{A} \\cdot \\vec{B}$, o vetorial $\\vec{A} \\times \\vec{B}$.\n",
        "Calcule o produto tensorial $\\vec{B}\\vec{A}$ e verifique se existe alguma relação entre $\\vec{A}\\vec{B}$ e $\\vec{B}\\vec{A}$"
      ],
      "metadata": {
        "id": "HKdAuJSrAn5N"
      }
    },
    {
      "cell_type": "code",
      "source": [
        " #Definindo os vetores como arrays para usarmos a biblioteca Numpy\n",
        " A = np.array([1,2,3])\n",
        " B = np.array([-3,0,1])"
      ],
      "metadata": {
        "id": "1bOFJ8QVAhbN"
      },
      "execution_count": null,
      "outputs": []
    },
    {
      "cell_type": "code",
      "source": [
        "#Calculando o produto escalar usando o comando np.inner\n",
        "np.inner(A,B)"
      ],
      "metadata": {
        "id": "7To5CxhSBnZl"
      },
      "execution_count": null,
      "outputs": []
    },
    {
      "cell_type": "code",
      "source": [
        "#Calculando o produto vetorial usando o np.cross\n",
        "np.cross(A,B)"
      ],
      "metadata": {
        "id": "EDM_GS7ZCIrf"
      },
      "execution_count": null,
      "outputs": []
    },
    {
      "cell_type": "code",
      "source": [
        "#Calculando o produto tensorial AB , utilizando o comando np.tensordot com o axes = 0, ele configura o tipo de produto de acordo com o axes.\n",
        "np.tensordot(A,B,axes=0)\n",
        "C = np.tensordot(A,B,axes=0)\n",
        "print(C)"
      ],
      "metadata": {
        "id": "K2f7zYhkCYFv"
      },
      "execution_count": null,
      "outputs": []
    },
    {
      "cell_type": "code",
      "source": [
        "#Calculando o produto tensorial BA\n",
        "np.tensordot(B,A,axes=0)"
      ],
      "metadata": {
        "id": "UviDGi1qCiMt"
      },
      "execution_count": null,
      "outputs": []
    },
    {
      "cell_type": "code",
      "source": [
        "#Verificando se a matriz do produto tensorial BA é a matriz transposta de AB\n",
        "C_Transp = np.transpose(C)\n",
        "print(C_Transp)\n",
        "#Dessa forma podemos concluir que o produto tensorial BA é a matriz transposta de AB "
      ],
      "metadata": {
        "id": "oCHqLH3O0GAe"
      },
      "execution_count": null,
      "outputs": []
    },
    {
      "cell_type": "code",
      "source": [
        "#Exercicio 6\n",
        "h = 2.5 #m\n",
        "P_abs = 250000 #Pa\n",
        "P_atms = 100000 #Pa\n",
        "r = 0.05 #m\n",
        "p_agua = 1000 #kg/m^3\n",
        "g = 9.81 #m/s\n",
        "#Primeiro determinaremos a velocidade de saída do tubo pela equação de Bernoulli, considerando que a velocidade em um (V_1) é aproximadamente 0 pois não há altura o suficiente.\n",
        "#Dessa forma modelando a equação de Bernoulli temos que para a velocidade em 2:\n",
        "V_2 = np.sqrt((2*(P_abs - P_atms)/p_agua) + 2*g*h)\n",
        "print(\"O valor da velocidade no ponto 2 é {:.2f} m/s\".format(V_2))\n",
        "#Assim podemos calcular a vazão volumétrica assim:\n",
        "A = np.pi*(r**2)\n",
        "Vazao = A*V_2 \n",
        "print(\"A vazão volumétrica no ponto de saída é {:.2f} m^3/s\".format(Vazao))"
      ],
      "metadata": {
        "id": "IZ_O93LO6RCH"
      },
      "execution_count": null,
      "outputs": []
    },
    {
      "cell_type": "code",
      "source": [
        "#Exercício 7 - Tubo de Pitot \n",
        "h_vertical = 0.005 #m\n",
        "p_ar = 1.16 #kg/m^3\n",
        "p_agua = 1000 #kg/m^3\n",
        "#Modelando o tubo de Pitot pela Equação de Bernoulli\n",
        "V_ar = np.sqrt(2*p_agua*h_vertical/p_ar)\n",
        "print(\"O valor da velocidade do ar é {:.2f} m/s\".format(V_ar))"
      ],
      "metadata": {
        "id": "mGyoEonP8_5m"
      },
      "execution_count": null,
      "outputs": []
    },
    {
      "cell_type": "code",
      "source": [
        "#Exercício 8 - Tubo de Pitot 2 \n",
        "g = 9.81 #m/s\n",
        "#Para determinar a velocidade no centro do tubo, precisamos somar as alturas e encontrar o excesso de fluido dentro do tubo. dessa forma temos que:\n",
        "h_piezometro = 0.1 #m (h_piezometro é dado por h_piezometro = h_1 + h_2 )\n",
        "h_pitot = 0.22 #m (h_pitot é dado por h_pitot = h_1 + h_2 + h_3 )\n",
        "#Assim modelando pela equação de Bernoulli. Pela figura\n",
        "V_centro = np.sqrt(2*g*(h_pitot - h_piezometro))\n",
        "print(\"O valor da velocidade do ar é {:.2f} m/s\".format(V_centro))\n",
        "#ou usando somente a altura 3, pois ela da o execesso de fluido dentro do tubo:\n",
        "h_3 = 0.12 #m\n",
        "V_centro_h = V_centro = np.sqrt(2*g*(h_3))\n",
        "print(\"O valor da velocidade do ar é {:.2f} m/s\".format(V_centro_h))"
      ],
      "metadata": {
        "id": "MZTdb4upAECO"
      },
      "execution_count": null,
      "outputs": []
    },
    {
      "cell_type": "code",
      "source": [
        "#Exercício 10 - Número de Reynolds\n",
        "r = 0.009 #m \n",
        "volume_copo = 0.000473 #m^3\n",
        "tempo_de_escoamento = 6 #segundos\n",
        "p_agua = 1000 #Kg/m^3\n",
        "viscosidade_agua = 0.01002 #Pa\n",
        "diametro_torneira = 2*r\n",
        "#Para determinar o número de Reynolds precisamos primeiramente da velocidade média dada pelo quociente da vazão com a área\n",
        "A_torneira = np.pi*(r**2)\n",
        "Q_torneira = volume_copo/tempo_de_escoamento\n",
        "Velocidade_media = Q_torneira/A_torneira\n",
        "print(\"A velocidade média da torneira é {:.2f}\".format(Velocidade_media))\n",
        "#Com isso podemos determinar o número de reynolds assim:\n",
        "Re = p_agua*Velocidade_media*diametro_torneira/viscosidade_agua\n",
        "if Re < 2300:\n",
        "  print(\"O Número de Reynolds do escoamento correspondente a torneira é {} e ele é um escoamento {}\".format(Re,\"laminar\"))\n",
        "elif Re > 4000:\n",
        "  print(\"O Número de Reynolds do escoamento correspondente a torneira é {} e ele é um escoamento {}\".format(Re,\"turbulento\"))\n",
        "elif Re < 2300 and Re < 4000: \n",
        "  print(\"O Número de Reynolds do escoamento correspondente a torneira é {} e ele é um escoamento {}\".format(Re,\"de transição\"))"
      ],
      "metadata": {
        "id": "KlXQIlUkBuQQ"
      },
      "execution_count": null,
      "outputs": []
    },
    {
      "cell_type": "code",
      "source": [
        "#Exercício 11 \n",
        "p_oleo = 900 #kg/m^3\n",
        "viscosidade_oleo = 0.01 #kg/ms\n",
        "e = 0.00026 #m\n",
        "comprimento_tubo = 200 #m \n",
        "diametro_tubo = 0.2 #m \n",
        "r_tubo = 0.1 #m\n",
        "vazao_oleo = 0.1 #m^3/s\n",
        "g = g = 9.81 #m/s\n",
        "#item a - Perda de pressão no tubo \n",
        "#Primeiramente iremos determinar o número de Reynolds desse óleo para determinar o tipo de escoamento envolvido\n",
        "#Área do tubo\n",
        "A_tubo = np.pi*(r_tubo**2)\n",
        "print(\"A área do tubo é {} m^2\".format(A_tubo))\n",
        "Velocidade_media_oleo = vazao_oleo/A_tubo\n",
        "print(\"A velocidade média do óleo é {}\".format(Velocidade_media_oleo))\n",
        "#Densidade relativa \n",
        "p_relativa = 0.00001 \n",
        "Re_oleo = Velocidade_media_oleo*diametro_tubo/p_relativa\n",
        "if Re_oleo < 2300:\n",
        "  print(\"O Número de Reynolds do escoamento correspondente é {} e ele é um escoamento {}\".format(Re_oleo,\"laminar\"))\n",
        "elif Re_oleo > 4000:\n",
        "  print(\"O Número de Reynolds do escoamento correspondente é {} e ele é um escoamento {}\".format(Re_oleo,\"turbulento\"))\n",
        "elif Re_oleo < 2300 and Re_oleo < 4000: \n",
        "  print(\"O Número de Reynolds do escoamento correspondente  é {} e ele é um escoamento {}\".format(Re_oleo,\"de transição\"))\n",
        "#Como ele é um escoamento turbulento, devemos determinar o fator de atrito antes, porém iremos calcular a Rugosidade Relativa para encontrarmos no diagrama de Moody o fator de atrito\n",
        "Rugosidade_Relativa = 0.0013\n",
        "print(Rugosidade_Relativa)\n",
        "#Pelo diagrama\n",
        "f = 0.0225\n",
        "#Perda de Pressao\n",
        "Perda_Pressao = f*(comprimento_tubo/diametro_tubo)*(p_oleo*(Velocidade_media_oleo**2)/2)\n",
        "print(\"A perda de pressao é {:.2f} Pa\".format(Perda_Pressao))\n",
        "#Em KPa\n",
        "KPa = Perda_Pressao/1000\n",
        "print(\"A perda de pressão em KPa é {} KPa\".format(KPa))\n",
        "#item b - Perda de carga\n",
        "Perda_Carga = f*((comprimento_tubo/diametro_tubo)*((Velocidade_media_oleo**2)/2*g))\n",
        "print(\"A perda de carga é {:.2f} m\".format(Perda_Carga))\n",
        "#item c - Diferença de pressão com o declive, o comando np.deg2rad converte graus para radianos!!!\n",
        "Diff_Pressao = Perda_Pressao - p_oleo*g*(comprimento_tubo*np.sin(np.deg2rad(+15)))\n",
        "print(\"A diferença de pressão entre o inicio e o fim é {:.2f} Pa\".format(Diff_Pressao))\n"
      ],
      "metadata": {
        "id": "adifoBk9JQoW"
      },
      "execution_count": null,
      "outputs": []
    },
    {
      "cell_type": "code",
      "source": [
        "#Exercicio 12 - Agua em tubo\n",
        "#Seguindo o mesmo raciocinio do item anterior \n",
        "p_agua_15graus = 999.2 #kg/m^3\n",
        "u_agua = 1.138 #kg/(ms)\n",
        "comprimento_tubo_agua = 30 #m\n",
        "diametro_agua = 0.05 #m \n",
        "raio = 0.025 #m \n",
        "e = 0.000002 #m \n",
        "vazao_tubo_agua = 0.009 #m^3/s\n",
        "g = 9.81 #m/s\n",
        "#Item a - Perda de Pressao \n",
        "#Primeiramente vamos determinar a velocidade média do água no tubo \n",
        "Area_tubo_agua = np.pi*(0.025**2)\n",
        "print(\"A área do tubo é {} m^2\".format(Area_tubo_agua))\n",
        "velocidade_media_agua_tubo = vazao_tubo_agua/Area_tubo_agua\n",
        "print(\"A velocidade média da agua é {}\".format(velocidade_media_agua_tubo))\n",
        "#Numero de Reynolds para esse escoamento \n",
        "Re_agua_tubo = p_agua_15graus*velocidade_media_agua_tubo*diametro_agua/u_agua\n",
        "if Re_agua_tubo < 2300:\n",
        "  print(\"O Número de Reynolds do escoamento correspondente a torneira é {} e ele é um escoamento {}\".format(Re_agua_tubo,\"laminar\"))\n",
        "elif Re_agua_tubo > 4000:\n",
        "  print(\"O Número de Reynolds do escoamento correspondente a torneira é {} e ele é um escoamento {}\".format(Re_agua_tubo,\"turbulento\"))\n",
        "elif Re_agua_tubo < 2300 and Re < 4000: \n",
        "  print(\"O Número de Reynolds do escoamento correspondente a torneira é {} e ele é um escoamento {}\".format(Re_agua_tubo,\"de transição\"))\n",
        "#Como esse escoamento é laminar, podemos determinar a perda de pressão assim:\n",
        "Perda_Pressao_Agua = (128*comprimento_tubo_agua*diametro_agua*u_agua*vazao_tubo_agua)/(np.pi*(diametro_agua**4))\n",
        "print(\"A perda de pressao é {:.2f} Pa\".format(Perda_Pressao_Agua))\n",
        "#Em KPa\n",
        "KPa_Agua = Perda_Pressao_Agua/1000\n",
        "print(\"A perda de pressão em KPa é {} KPa\".format(KPa_Agua))\n",
        "#Item B - Perda de Carga\n",
        "#Para determinar a perda de carga, vamos antes determinar o fator de atrito para esse escoamento. \n",
        "f_agua = 64/Re_agua_tubo\n",
        "print(\"O fator de atrito para esse escoamento é {}\".format(f_agua))\n",
        "#Assim a perda de carga é dada por:\n",
        "Perda_Carga_Agua = f_agua*(comprimento_tubo_agua/diametro_agua)*((velocidade_media_agua_tubo**2)/(2*g))\n",
        "print(\"A perda de pressao é {:.2f} m\".format(Perda_Carga_Agua))"
      ],
      "metadata": {
        "id": "PzAof5lIQ71N"
      },
      "execution_count": null,
      "outputs": []
    },
    {
      "cell_type": "code",
      "source": [
        "#Exercício 13 - Altura H \n",
        "Vazao_Agua_tanque = 0.000425 #m^3/s\n",
        "e_tanque_aco = 0.000045 #m\n",
        "diametro_tanque = 0.013 #m\n",
        "raio_tanque = 0.0065 #m \n",
        "p_agua_tanque = 1000 #Kg/m^3\n",
        "viscosidade_agua_tanque = 0.01002 #Pa\n",
        "comprimento_tanque = 24.4 #m\n",
        "g = 9.81 #m/s^2\n",
        "#Primeiramente vamos determinar como nos outros exercícios a área e a velocidade do escoamento no tanque \n",
        "Area_Tanque = np.pi*(raio_tanque**2)\n",
        "print(\"A área do Tanque é {} m^2\".format(Area_Tanque))\n",
        "Velocidade_Media_Tanque = Vazao_Agua_tanque/Area_Tanque\n",
        "print(\"A velocidade média do escoamento no tanque {} é m/s\".format(Velocidade_Media_Tanque))\n",
        "#Numero de Reynolds para esse escoamento \n",
        "Re_Tanque = p_agua_tanque*Velocidade_Media_Tanque*diametro_tanque/viscosidade_agua_tanque\n",
        "if Re_Tanque < 2300:\n",
        "  print(\"O Número de Reynolds do escoamento correspondente a torneira é {} e ele é um escoamento {}\".format(Re_Tanque,\"laminar\"))\n",
        "elif Re_Tanque > 4000:\n",
        "  print(\"O Número de Reynolds do escoamento correspondente a torneira é {} e ele é um escoamento {}\".format(Re_Tanque,\"turbulento\"))\n",
        "elif Re_Tanque < 2300 and Re < 4000: \n",
        "  print(\"O Número de Reynolds do escoamento correspondente a torneira é {} e ele é um escoamento {}\".format(Re_Tanque,\"de transição\"))\n",
        "#Por ser um escoamento turbulento, vamos determinar o fator de atrito levando em consideração o diagrama de moody pela razão da rugosidade relativa\n",
        "Rugosidade_Relativa_Tanque = e_tanque_aco/diametro_tanque\n",
        "print(\"A rugosidade relativa do tanque é {}\".format(Rugosidade_Relativa_Tanque))\n",
        "#Sendo assim pelo diagrama\n",
        "f_tanque = 0.03\n",
        "#A altura é dada por \n",
        "h = (Velocidade_Media_Tanque**2)/(2*g)*(1 + f_tanque*(comprimento_tanque/diametro_tanque))\n",
        "print(\"A altura h é {:.2f} m\".format(h))"
      ],
      "metadata": {
        "id": "KMdQaTCqh84c"
      },
      "execution_count": null,
      "outputs": []
    }
  ]
}